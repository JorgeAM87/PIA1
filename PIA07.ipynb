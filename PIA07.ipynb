{
  "nbformat": 4,
  "nbformat_minor": 0,
  "metadata": {
    "colab": {
      "provenance": []
    },
    "kernelspec": {
      "name": "python3",
      "display_name": "Python 3"
    },
    "language_info": {
      "name": "python"
    }
  },
  "cells": [
    {
      "cell_type": "markdown",
      "source": [
        "# **Tarea 7**"
      ],
      "metadata": {
        "id": "9IjTUncXnFuT"
      }
    },
    {
      "cell_type": "markdown",
      "source": [
        "Apartado 1. Inicia un nuevo notebook, y carga el dataset desde Keras."
      ],
      "metadata": {
        "id": "rH8jN8mrn0EJ"
      }
    },
    {
      "cell_type": "code",
      "source": [
        "import numpy as np\n",
        "import tensorflow as tf\n",
        "from tensorflow.keras.datasets import mnist\n",
        "from tensorflow.keras.models import Sequential\n",
        "from tensorflow.keras.layers import Conv2D, MaxPooling2D, Flatten, Dense, Dropout"
      ],
      "metadata": {
        "id": "bSiwNOT0nF3n"
      },
      "execution_count": 4,
      "outputs": []
    },
    {
      "cell_type": "markdown",
      "source": [
        "Prepara los datos para poder ser ingeridos por una capa convolucional."
      ],
      "metadata": {
        "id": "I1QksIX5nF_e"
      }
    },
    {
      "cell_type": "code",
      "source": [
        "# Cargamos el conjunto de datos MNIST\n",
        "(x_train, y_train), (x_test, y_test) = mnist.load_data()\n",
        "\n",
        "# Expandimos las dimensiones de los datos de entrada y normalizamos sus valores de píxeles en rango [0, 1]\n",
        "x_train = x_train.reshape((60000, 28, 28, 1))\n",
        "x_train = x_train.astype('float32') / 255\n",
        "\n",
        "x_test = x_test.reshape((10000, 28, 28, 1))\n",
        "x_test = x_test.astype('float32') / 255\n",
        "\n",
        "# Verificamos las dimensiones de los datos en pantalla\n",
        "print('Dimensiones de x_train:', x_train.shape)\n",
        "print('Dimensiones de y_train:', y_train.shape)\n",
        "print('Dimensiones de x_test:', x_test.shape)\n",
        "print('Dimensiones de y_test:', y_test.shape)"
      ],
      "metadata": {
        "colab": {
          "base_uri": "https://localhost:8080/"
        },
        "id": "rubIDO5knGFM",
        "outputId": "d0a369dc-b00d-42c3-de02-bfb37d77f422"
      },
      "execution_count": 5,
      "outputs": [
        {
          "output_type": "stream",
          "name": "stdout",
          "text": [
            "Dimensiones de x_train: (60000, 28, 28, 1)\n",
            "Dimensiones de y_train: (60000,)\n",
            "Dimensiones de x_test: (10000, 28, 28, 1)\n",
            "Dimensiones de y_test: (10000,)\n"
          ]
        }
      ]
    },
    {
      "cell_type": "markdown",
      "source": [
        "Apartado 2.\tCrea un modelo con una o varias capas Conv2D. Utiliza también capas max-pooling o strides que mantengan las dimensiones de la red bajo control. Recuerda añadir una capa neuronal interna y una capa neuronal de salida, con tantas neuronas como clases de salida necesitamos."
      ],
      "metadata": {
        "id": "tqJeAsiOnGL5"
      }
    },
    {
      "cell_type": "code",
      "source": [
        "# Creamos el modelo\n",
        "model = Sequential()\n",
        "\n",
        "# Agregamos capas convolucionales y de pooling\n",
        "model.add(Conv2D(32, (3, 3), activation='relu', input_shape=(28, 28, 1)))\n",
        "model.add(MaxPooling2D((2, 2)))\n",
        "model.add(Conv2D(64, (3, 3), activation='relu'))\n",
        "model.add(MaxPooling2D((2, 2)))\n",
        "model.add(Conv2D(64, (3, 3), activation='relu'))\n",
        "\n",
        "# Añadimos una capa de dropout\n",
        "model.add(Dropout(0.5))\n",
        "\n",
        "# Aplanamos los datos para la capa densa\n",
        "model.add(Flatten())\n",
        "\n",
        "# Añadimos capas densas\n",
        "model.add(Dense(64, activation='relu'))\n",
        "model.add(Dense(10, activation='softmax'))"
      ],
      "metadata": {
        "id": "DQ53dhTZnGR3"
      },
      "execution_count": 6,
      "outputs": []
    },
    {
      "cell_type": "markdown",
      "source": [
        "Apartado 3: Configura los parámetros del entrenamiento y entrena el modelo. Evalua el modelo con los datos del test y obtén la precisión real."
      ],
      "metadata": {
        "id": "RJa-A3sPnGYJ"
      }
    },
    {
      "cell_type": "code",
      "source": [
        "# Compilamos el modelo\n",
        "model.compile(optimizer='adam', loss='sparse_categorical_crossentropy', metrics=['accuracy'])\n",
        "\n",
        "# Entrenamos el modelo\n",
        "model.fit(x_train, y_train, epochs=12, batch_size=64, validation_data=(x_test, y_test))\n",
        "\n",
        "# Evaluamos el modelo con los datos de prueba\n",
        "loss, accuracy = model.evaluate(x_test, y_test)\n",
        "print(\"Precisión del modelo en los datos de prueba:\", accuracy)"
      ],
      "metadata": {
        "colab": {
          "base_uri": "https://localhost:8080/"
        },
        "id": "SETKfCscnGd0",
        "outputId": "d161e819-20ba-4238-fe9f-0ea6c13ae46c"
      },
      "execution_count": 8,
      "outputs": [
        {
          "output_type": "stream",
          "name": "stdout",
          "text": [
            "Epoch 1/12\n",
            "938/938 [==============================] - 47s 49ms/step - loss: 0.0688 - accuracy: 0.9785 - val_loss: 0.0295 - val_accuracy: 0.9899\n",
            "Epoch 2/12\n",
            "938/938 [==============================] - 47s 50ms/step - loss: 0.0523 - accuracy: 0.9837 - val_loss: 0.0334 - val_accuracy: 0.9891\n",
            "Epoch 3/12\n",
            "938/938 [==============================] - 49s 52ms/step - loss: 0.0436 - accuracy: 0.9866 - val_loss: 0.0277 - val_accuracy: 0.9909\n",
            "Epoch 4/12\n",
            "938/938 [==============================] - 45s 48ms/step - loss: 0.0368 - accuracy: 0.9886 - val_loss: 0.0247 - val_accuracy: 0.9911\n",
            "Epoch 5/12\n",
            "938/938 [==============================] - 47s 50ms/step - loss: 0.0337 - accuracy: 0.9891 - val_loss: 0.0258 - val_accuracy: 0.9911\n",
            "Epoch 6/12\n",
            "938/938 [==============================] - 45s 48ms/step - loss: 0.0301 - accuracy: 0.9909 - val_loss: 0.0223 - val_accuracy: 0.9934\n",
            "Epoch 7/12\n",
            "938/938 [==============================] - 46s 49ms/step - loss: 0.0275 - accuracy: 0.9913 - val_loss: 0.0226 - val_accuracy: 0.9928\n",
            "Epoch 8/12\n",
            "938/938 [==============================] - 48s 51ms/step - loss: 0.0252 - accuracy: 0.9915 - val_loss: 0.0202 - val_accuracy: 0.9935\n",
            "Epoch 9/12\n",
            "938/938 [==============================] - 45s 48ms/step - loss: 0.0223 - accuracy: 0.9928 - val_loss: 0.0191 - val_accuracy: 0.9933\n",
            "Epoch 10/12\n",
            "938/938 [==============================] - 46s 49ms/step - loss: 0.0212 - accuracy: 0.9932 - val_loss: 0.0225 - val_accuracy: 0.9934\n",
            "Epoch 11/12\n",
            "938/938 [==============================] - 45s 48ms/step - loss: 0.0191 - accuracy: 0.9937 - val_loss: 0.0213 - val_accuracy: 0.9940\n",
            "Epoch 12/12\n",
            "938/938 [==============================] - 46s 49ms/step - loss: 0.0185 - accuracy: 0.9940 - val_loss: 0.0258 - val_accuracy: 0.9923\n",
            "313/313 [==============================] - 2s 8ms/step - loss: 0.0258 - accuracy: 0.9923\n",
            "Precisión del modelo en los datos de prueba: 0.9922999739646912\n"
          ]
        }
      ]
    },
    {
      "cell_type": "markdown",
      "source": [
        "¿Es peor, igual o mejor que la que conseguimos en la unidad 5?."
      ],
      "metadata": {
        "id": "MCTGFc1fnGjk"
      }
    },
    {
      "cell_type": "markdown",
      "source": [
        "La precisión obtenida en la unidad 5 ha sido del 0.4938, mientras que aquí hemos obtenido 0.9922. Por lo tanto, la precisión ha aumentado notablemente rozando la perfección, mientras que en la unidad 5 apenas alcanzaba el 50%."
      ],
      "metadata": {
        "id": "W7jW3rRdysCS"
      }
    }
  ]
}