{
  "nbformat": 4,
  "nbformat_minor": 0,
  "metadata": {
    "colab": {
      "provenance": []
    },
    "kernelspec": {
      "name": "python3",
      "display_name": "Python 3"
    },
    "language_info": {
      "name": "python"
    }
  },
  "cells": [
    {
      "cell_type": "markdown",
      "source": [
        "## <b>APARTADO 5</b>"
      ],
      "metadata": {
        "id": "jf5zxNdxZ7w-"
      }
    },
    {
      "cell_type": "markdown",
      "source": [
        "Primero instalamos la libreria mrjob que permite trabajar con MapReduce en Python"
      ],
      "metadata": {
        "id": "UFLhKNU5aCpX"
      }
    },
    {
      "cell_type": "code",
      "execution_count": 36,
      "metadata": {
        "colab": {
          "base_uri": "https://localhost:8080/"
        },
        "id": "YuS4bNuHZNMY",
        "outputId": "528592fb-e3c8-4bf9-bfca-4afd0389acf5"
      },
      "outputs": [
        {
          "output_type": "stream",
          "name": "stdout",
          "text": [
            "Requirement already satisfied: mrjob in /usr/local/lib/python3.10/dist-packages (0.7.4)\n",
            "Requirement already satisfied: PyYAML>=3.10 in /usr/local/lib/python3.10/dist-packages (from mrjob) (6.0.1)\n"
          ]
        }
      ],
      "source": [
        "# Instalar mrjob\n",
        "!pip install mrjob"
      ]
    },
    {
      "cell_type": "markdown",
      "source": [
        "Elaboramos el código para analizar el texto con las funciones Map y Reduce."
      ],
      "metadata": {
        "id": "gEzMvzu4afVZ"
      }
    },
    {
      "cell_type": "code",
      "source": [
        "# Creamos el código para contar las palabras repetidas.\n",
        "with open(\"word_count.py\", \"w\") as file:\n",
        "  file.write(\"\"\"\n",
        "from mrjob.job import MRJob\n",
        "\n",
        "class MRWordCount(MRJob):\n",
        "  def mapper(self, _, line):\n",
        "    words = line.split()\n",
        "    for word in words:\n",
        "      yield (word, 1)\n",
        "\n",
        "  def reducer(self, key, values):\n",
        "    yield (key, sum(values))\n",
        "\n",
        "if __name__ == '__main__':\n",
        "  MRWordCount.run()\n",
        "\"\"\")"
      ],
      "metadata": {
        "id": "ZuWE1-m-afcX"
      },
      "execution_count": 37,
      "outputs": []
    },
    {
      "cell_type": "markdown",
      "source": [
        "A continuación creamos el archivo a analizar.\n"
      ],
      "metadata": {
        "id": "o-3wemn1afk_"
      }
    },
    {
      "cell_type": "code",
      "source": [
        "# Creamos el código para contar las palabras repetidas.\n",
        "# Creamos el archivo para analizar\n",
        "data = \"\"\"\n",
        "Archivo de apartado 5\n",
        "Contara palabras\n",
        "Tiene palabras repetidas\n",
        "Algunas lineas tienen palabras repetidas como palabras\n",
        "analizara todas las lineas\n",
        "\"\"\"\n",
        "\n",
        "with open(\"input.txt\", \"w\") as file:\n",
        "  file.write(data)"
      ],
      "metadata": {
        "id": "vGSBNaQCaftV"
      },
      "execution_count": 38,
      "outputs": []
    },
    {
      "cell_type": "markdown",
      "source": [
        "Ejecutamos el código sobre el archivo creado"
      ],
      "metadata": {
        "id": "M2xDjoa-af0z"
      }
    },
    {
      "cell_type": "code",
      "source": [
        "!python word_count.py -r local input.txt"
      ],
      "metadata": {
        "colab": {
          "base_uri": "https://localhost:8080/"
        },
        "id": "pnURLBDuaf6q",
        "outputId": "c36e9cbb-a469-4984-a054-5fa1d3a33224"
      },
      "execution_count": 39,
      "outputs": [
        {
          "output_type": "stream",
          "name": "stdout",
          "text": [
            "No configs found; falling back on auto-configuration\n",
            "No configs specified for local runner\n",
            "Creating temp directory /tmp/word_count.root.20240106.165107.656110\n",
            "Running step 1 of 1...\n",
            "job output is in /tmp/word_count.root.20240106.165107.656110/output\n",
            "Streaming final output from /tmp/word_count.root.20240106.165107.656110/output...\n",
            "\"5\"\t1\n",
            "\"Algunas\"\t1\n",
            "\"Archivo\"\t1\n",
            "\"Contara\"\t1\n",
            "\"Tiene\"\t1\n",
            "\"analizara\"\t1\n",
            "\"tienen\"\t1\n",
            "\"todas\"\t1\n",
            "\"palabras\"\t4\n",
            "\"repetidas\"\t2\n",
            "\"apartado\"\t1\n",
            "\"como\"\t1\n",
            "\"de\"\t1\n",
            "\"las\"\t1\n",
            "\"lineas\"\t2\n",
            "Removing temp directory /tmp/word_count.root.20240106.165107.656110...\n"
          ]
        }
      ]
    },
    {
      "cell_type": "markdown",
      "source": [
        "Podemos observar que ha encontrado cuatro veces <em>\"palabra\"</em>, dos veces <em>\"repetidas\"</em> y dos veces <em>\"lineas\"</em>."
      ],
      "metadata": {
        "id": "14QZxYJwdjeo"
      }
    }
  ]
}
