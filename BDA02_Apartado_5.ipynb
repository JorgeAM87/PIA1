{
  "nbformat": 4,
  "nbformat_minor": 0,
  "metadata": {
    "colab": {
      "provenance": []
    },
    "kernelspec": {
      "name": "python3",
      "display_name": "Python 3"
    },
    "language_info": {
      "name": "python"
    }
  },
  "cells": [
    {
      "cell_type": "markdown",
      "source": [
        "## <b>APARTADO 5</b>"
      ],
      "metadata": {
        "id": "jf5zxNdxZ7w-"
      }
    },
    {
      "cell_type": "markdown",
      "source": [
        "Primero instalamos la libreria mrjob que permite trabajar con MapReduce en Python"
      ],
      "metadata": {
        "id": "UFLhKNU5aCpX"
      }
    },
    {
      "cell_type": "code",
      "execution_count": 10,
      "metadata": {
        "colab": {
          "base_uri": "https://localhost:8080/"
        },
        "id": "YuS4bNuHZNMY",
        "outputId": "d62a7381-6e35-41c4-b1f7-49973f38b1c0"
      },
      "outputs": [
        {
          "output_type": "stream",
          "name": "stdout",
          "text": [
            "Requirement already satisfied: mrjob in /usr/local/lib/python3.10/dist-packages (0.7.4)\n",
            "Requirement already satisfied: PyYAML>=3.10 in /usr/local/lib/python3.10/dist-packages (from mrjob) (6.0.1)\n"
          ]
        }
      ],
      "source": [
        "# Instalar mrjob\n",
        "!pip install mrjob"
      ]
    },
    {
      "cell_type": "markdown",
      "source": [
        "A continuación creamos el archivo a analizar"
      ],
      "metadata": {
        "id": "gEzMvzu4afVZ"
      }
    },
    {
      "cell_type": "code",
      "source": [
        "# Creamos el archivo para analizar\n",
        "data = \"\"\"\n",
        "Archivo de apartado 5\n",
        "Contará palabras\n",
        "Tiene palabras repetidas\n",
        "Algunas líneas tienen palabras repetidas como palabras\n",
        "analizará todas las líneas\n",
        "\"\"\"\n",
        "\n",
        "with open(\"input.txt\", \"w\") as file:\n",
        "  file.write(data)"
      ],
      "metadata": {
        "id": "ZuWE1-m-afcX"
      },
      "execution_count": 11,
      "outputs": []
    },
    {
      "cell_type": "markdown",
      "source": [
        "Elaboramos el código para analizar el texto con las funciones Map y Reduce.\n",
        "\n"
      ],
      "metadata": {
        "id": "o-3wemn1afk_"
      }
    },
    {
      "cell_type": "code",
      "source": [
        "# Creamos el código para contar las palabras repetidas.\n",
        "with open(\"word_count.py\", \"w\") as file:\n",
        "  file.write(\"\"\"\n",
        "from mrjob.job import MRJob\n",
        "\n",
        "class MRWordCount(MRJob):\n",
        "  def mapper(self, _, line):\n",
        "    words = line.split()\n",
        "    for word in words:\n",
        "      yield (word, 1)\n",
        "\n",
        "  def reducer(self, key, values):\n",
        "    yield (key, sum(values))\n",
        "\n",
        "if __name__ == '__main__':\n",
        "  MRWordCount.run()\n",
        "\"\"\")"
      ],
      "metadata": {
        "id": "vGSBNaQCaftV"
      },
      "execution_count": 12,
      "outputs": []
    },
    {
      "cell_type": "markdown",
      "source": [
        "Ejecutamos el código sobre el archivo creado"
      ],
      "metadata": {
        "id": "M2xDjoa-af0z"
      }
    },
    {
      "cell_type": "code",
      "source": [
        "!python word_count.py -r local input.txt"
      ],
      "metadata": {
        "colab": {
          "base_uri": "https://localhost:8080/"
        },
        "id": "pnURLBDuaf6q",
        "outputId": "4d88f3b6-ddff-4e41-83d5-c7a9429f652b"
      },
      "execution_count": 13,
      "outputs": [
        {
          "output_type": "stream",
          "name": "stdout",
          "text": [
            "No configs found; falling back on auto-configuration\n",
            "No configs specified for local runner\n",
            "Creating temp directory /tmp/word_count.root.20240106.154947.406251\n",
            "Running step 1 of 1...\n",
            "job output is in /tmp/word_count.root.20240106.154947.406251/output\n",
            "Streaming final output from /tmp/word_count.root.20240106.154947.406251/output...\n",
            "\"5\"\t1\n",
            "\"Algunas\"\t1\n",
            "\"Archivo\"\t1\n",
            "\"Contar\\u00e1\"\t1\n",
            "\"Tiene\"\t1\n",
            "\"analizar\\u00e1\"\t1\n",
            "\"tienen\"\t1\n",
            "\"todas\"\t1\n",
            "\"las\"\t1\n",
            "\"palabras\"\t4\n",
            "\"repetidas\"\t2\n",
            "\"apartado\"\t1\n",
            "\"como\"\t1\n",
            "\"de\"\t1\n",
            "\"l\\u00edneas\"\t2\n",
            "Removing temp directory /tmp/word_count.root.20240106.154947.406251...\n"
          ]
        }
      ]
    },
    {
      "cell_type": "markdown",
      "source": [
        "Podemos observar que ha encontrado cuatro veces <em>\"palabra\"</em>, dos veces <em>\"repetidas\"</em> y dos veces <em>\"líneas\"</em>."
      ],
      "metadata": {
        "id": "14QZxYJwdjeo"
      }
    }
  ]
}