{
 "cells": [
  {
   "cell_type": "markdown",
   "id": "23858ccc",
   "metadata": {},
   "source": [
    "## Tarea 4. Librerías de programación de Aprendizaje Automático con Python."
   ]
  },
  {
   "cell_type": "markdown",
   "id": "ce8fc400",
   "metadata": {},
   "source": [
    "#### Apartado 1: Explora los datos con Pandas\n",
    "\n"
   ]
  },
  {
   "cell_type": "markdown",
   "id": "2b941e84",
   "metadata": {},
   "source": [
    "Inicia un nuevo notebook, preferiblemente en Google Colab. Para guiarte en el proceso, puedes utilizar este cuaderno-guía con los fragmentos de código indicados en las celdas de texto, pero tendrás que escribir el código en la celda de código correspondiente y ejecutarlo.\n",
    "Importa las librerías Numpy y Pandas."
   ]
  },
  {
   "cell_type": "code",
   "execution_count": 340,
   "id": "d76f075d",
   "metadata": {},
   "outputs": [],
   "source": [
    "import pandas as pd\n",
    "import numpy as np"
   ]
  },
  {
   "cell_type": "markdown",
   "id": "a96414f0",
   "metadata": {},
   "source": [
    "Importa la función load_iris de la biblioteca de datasets de Scikit-learn y echa un vistazo rápido a sus principales elementos 'data', 'target' y 'target_names'."
   ]
  },
  {
   "cell_type": "code",
   "execution_count": 341,
   "id": "654a65e3",
   "metadata": {},
   "outputs": [],
   "source": [
    "from sklearn.datasets import load_iris\n",
    "iris = load_iris()"
   ]
  },
  {
   "cell_type": "code",
   "execution_count": 342,
   "id": "2ac9458e",
   "metadata": {},
   "outputs": [
    {
     "name": "stdout",
     "output_type": "stream",
     "text": [
      "Data:\n",
      "[[5.1 3.5 1.4 0.2]\n",
      " [4.9 3.  1.4 0.2]\n",
      " [4.7 3.2 1.3 0.2]\n",
      " [4.6 3.1 1.5 0.2]\n",
      " [5.  3.6 1.4 0.2]\n",
      " [5.4 3.9 1.7 0.4]\n",
      " [4.6 3.4 1.4 0.3]\n",
      " [5.  3.4 1.5 0.2]\n",
      " [4.4 2.9 1.4 0.2]\n",
      " [4.9 3.1 1.5 0.1]\n",
      " [5.4 3.7 1.5 0.2]\n",
      " [4.8 3.4 1.6 0.2]\n",
      " [4.8 3.  1.4 0.1]\n",
      " [4.3 3.  1.1 0.1]\n",
      " [5.8 4.  1.2 0.2]\n",
      " [5.7 4.4 1.5 0.4]\n",
      " [5.4 3.9 1.3 0.4]\n",
      " [5.1 3.5 1.4 0.3]\n",
      " [5.7 3.8 1.7 0.3]\n",
      " [5.1 3.8 1.5 0.3]\n",
      " [5.4 3.4 1.7 0.2]\n",
      " [5.1 3.7 1.5 0.4]\n",
      " [4.6 3.6 1.  0.2]\n",
      " [5.1 3.3 1.7 0.5]\n",
      " [4.8 3.4 1.9 0.2]\n",
      " [5.  3.  1.6 0.2]\n",
      " [5.  3.4 1.6 0.4]\n",
      " [5.2 3.5 1.5 0.2]\n",
      " [5.2 3.4 1.4 0.2]\n",
      " [4.7 3.2 1.6 0.2]\n",
      " [4.8 3.1 1.6 0.2]\n",
      " [5.4 3.4 1.5 0.4]\n",
      " [5.2 4.1 1.5 0.1]\n",
      " [5.5 4.2 1.4 0.2]\n",
      " [4.9 3.1 1.5 0.2]\n",
      " [5.  3.2 1.2 0.2]\n",
      " [5.5 3.5 1.3 0.2]\n",
      " [4.9 3.6 1.4 0.1]\n",
      " [4.4 3.  1.3 0.2]\n",
      " [5.1 3.4 1.5 0.2]\n",
      " [5.  3.5 1.3 0.3]\n",
      " [4.5 2.3 1.3 0.3]\n",
      " [4.4 3.2 1.3 0.2]\n",
      " [5.  3.5 1.6 0.6]\n",
      " [5.1 3.8 1.9 0.4]\n",
      " [4.8 3.  1.4 0.3]\n",
      " [5.1 3.8 1.6 0.2]\n",
      " [4.6 3.2 1.4 0.2]\n",
      " [5.3 3.7 1.5 0.2]\n",
      " [5.  3.3 1.4 0.2]\n",
      " [7.  3.2 4.7 1.4]\n",
      " [6.4 3.2 4.5 1.5]\n",
      " [6.9 3.1 4.9 1.5]\n",
      " [5.5 2.3 4.  1.3]\n",
      " [6.5 2.8 4.6 1.5]\n",
      " [5.7 2.8 4.5 1.3]\n",
      " [6.3 3.3 4.7 1.6]\n",
      " [4.9 2.4 3.3 1. ]\n",
      " [6.6 2.9 4.6 1.3]\n",
      " [5.2 2.7 3.9 1.4]\n",
      " [5.  2.  3.5 1. ]\n",
      " [5.9 3.  4.2 1.5]\n",
      " [6.  2.2 4.  1. ]\n",
      " [6.1 2.9 4.7 1.4]\n",
      " [5.6 2.9 3.6 1.3]\n",
      " [6.7 3.1 4.4 1.4]\n",
      " [5.6 3.  4.5 1.5]\n",
      " [5.8 2.7 4.1 1. ]\n",
      " [6.2 2.2 4.5 1.5]\n",
      " [5.6 2.5 3.9 1.1]\n",
      " [5.9 3.2 4.8 1.8]\n",
      " [6.1 2.8 4.  1.3]\n",
      " [6.3 2.5 4.9 1.5]\n",
      " [6.1 2.8 4.7 1.2]\n",
      " [6.4 2.9 4.3 1.3]\n",
      " [6.6 3.  4.4 1.4]\n",
      " [6.8 2.8 4.8 1.4]\n",
      " [6.7 3.  5.  1.7]\n",
      " [6.  2.9 4.5 1.5]\n",
      " [5.7 2.6 3.5 1. ]\n",
      " [5.5 2.4 3.8 1.1]\n",
      " [5.5 2.4 3.7 1. ]\n",
      " [5.8 2.7 3.9 1.2]\n",
      " [6.  2.7 5.1 1.6]\n",
      " [5.4 3.  4.5 1.5]\n",
      " [6.  3.4 4.5 1.6]\n",
      " [6.7 3.1 4.7 1.5]\n",
      " [6.3 2.3 4.4 1.3]\n",
      " [5.6 3.  4.1 1.3]\n",
      " [5.5 2.5 4.  1.3]\n",
      " [5.5 2.6 4.4 1.2]\n",
      " [6.1 3.  4.6 1.4]\n",
      " [5.8 2.6 4.  1.2]\n",
      " [5.  2.3 3.3 1. ]\n",
      " [5.6 2.7 4.2 1.3]\n",
      " [5.7 3.  4.2 1.2]\n",
      " [5.7 2.9 4.2 1.3]\n",
      " [6.2 2.9 4.3 1.3]\n",
      " [5.1 2.5 3.  1.1]\n",
      " [5.7 2.8 4.1 1.3]\n",
      " [6.3 3.3 6.  2.5]\n",
      " [5.8 2.7 5.1 1.9]\n",
      " [7.1 3.  5.9 2.1]\n",
      " [6.3 2.9 5.6 1.8]\n",
      " [6.5 3.  5.8 2.2]\n",
      " [7.6 3.  6.6 2.1]\n",
      " [4.9 2.5 4.5 1.7]\n",
      " [7.3 2.9 6.3 1.8]\n",
      " [6.7 2.5 5.8 1.8]\n",
      " [7.2 3.6 6.1 2.5]\n",
      " [6.5 3.2 5.1 2. ]\n",
      " [6.4 2.7 5.3 1.9]\n",
      " [6.8 3.  5.5 2.1]\n",
      " [5.7 2.5 5.  2. ]\n",
      " [5.8 2.8 5.1 2.4]\n",
      " [6.4 3.2 5.3 2.3]\n",
      " [6.5 3.  5.5 1.8]\n",
      " [7.7 3.8 6.7 2.2]\n",
      " [7.7 2.6 6.9 2.3]\n",
      " [6.  2.2 5.  1.5]\n",
      " [6.9 3.2 5.7 2.3]\n",
      " [5.6 2.8 4.9 2. ]\n",
      " [7.7 2.8 6.7 2. ]\n",
      " [6.3 2.7 4.9 1.8]\n",
      " [6.7 3.3 5.7 2.1]\n",
      " [7.2 3.2 6.  1.8]\n",
      " [6.2 2.8 4.8 1.8]\n",
      " [6.1 3.  4.9 1.8]\n",
      " [6.4 2.8 5.6 2.1]\n",
      " [7.2 3.  5.8 1.6]\n",
      " [7.4 2.8 6.1 1.9]\n",
      " [7.9 3.8 6.4 2. ]\n",
      " [6.4 2.8 5.6 2.2]\n",
      " [6.3 2.8 5.1 1.5]\n",
      " [6.1 2.6 5.6 1.4]\n",
      " [7.7 3.  6.1 2.3]\n",
      " [6.3 3.4 5.6 2.4]\n",
      " [6.4 3.1 5.5 1.8]\n",
      " [6.  3.  4.8 1.8]\n",
      " [6.9 3.1 5.4 2.1]\n",
      " [6.7 3.1 5.6 2.4]\n",
      " [6.9 3.1 5.1 2.3]\n",
      " [5.8 2.7 5.1 1.9]\n",
      " [6.8 3.2 5.9 2.3]\n",
      " [6.7 3.3 5.7 2.5]\n",
      " [6.7 3.  5.2 2.3]\n",
      " [6.3 2.5 5.  1.9]\n",
      " [6.5 3.  5.2 2. ]\n",
      " [6.2 3.4 5.4 2.3]\n",
      " [5.9 3.  5.1 1.8]]\n"
     ]
    }
   ],
   "source": [
    "# Elementos 'data'\n",
    "print(\"Data:\")\n",
    "print(iris.data)"
   ]
  },
  {
   "cell_type": "code",
   "execution_count": 343,
   "id": "8ba79d0d",
   "metadata": {},
   "outputs": [
    {
     "name": "stdout",
     "output_type": "stream",
     "text": [
      "Target:\n",
      "[0 0 0 0 0 0 0 0 0 0 0 0 0 0 0 0 0 0 0 0 0 0 0 0 0 0 0 0 0 0 0 0 0 0 0 0 0\n",
      " 0 0 0 0 0 0 0 0 0 0 0 0 0 1 1 1 1 1 1 1 1 1 1 1 1 1 1 1 1 1 1 1 1 1 1 1 1\n",
      " 1 1 1 1 1 1 1 1 1 1 1 1 1 1 1 1 1 1 1 1 1 1 1 1 1 1 2 2 2 2 2 2 2 2 2 2 2\n",
      " 2 2 2 2 2 2 2 2 2 2 2 2 2 2 2 2 2 2 2 2 2 2 2 2 2 2 2 2 2 2 2 2 2 2 2 2 2\n",
      " 2 2]\n"
     ]
    }
   ],
   "source": [
    "# Elementos 'target'\n",
    "print(\"Target:\")\n",
    "print(iris.target)"
   ]
  },
  {
   "cell_type": "code",
   "execution_count": 344,
   "id": "484c6bfc",
   "metadata": {},
   "outputs": [
    {
     "name": "stdout",
     "output_type": "stream",
     "text": [
      "Target names:\n",
      "['setosa' 'versicolor' 'virginica']\n"
     ]
    }
   ],
   "source": [
    "# Elementos 'Target names'\n",
    "print(\"Target names:\")\n",
    "print(iris.target_names)"
   ]
  },
  {
   "cell_type": "markdown",
   "id": "5d268272",
   "metadata": {},
   "source": [
    "Utiliza la clase DataFrame de Pandas para crear el dataset df y añade la columna \"Species\" a partir de la secuencia de datos target. Utiliza la función head para ver los primeros registros del nuevo dataset."
   ]
  },
  {
   "cell_type": "code",
   "execution_count": 345,
   "id": "7fa4a2e3",
   "metadata": {},
   "outputs": [
    {
     "name": "stdout",
     "output_type": "stream",
     "text": [
      "   sepal length (cm)  sepal width (cm)  petal length (cm)  petal width (cm)  \\\n",
      "0                5.1               3.5                1.4               0.2   \n",
      "1                4.9               3.0                1.4               0.2   \n",
      "2                4.7               3.2                1.3               0.2   \n",
      "3                4.6               3.1                1.5               0.2   \n",
      "4                5.0               3.6                1.4               0.2   \n",
      "\n",
      "   Species  \n",
      "0        0  \n",
      "1        0  \n",
      "2        0  \n",
      "3        0  \n",
      "4        0  \n"
     ]
    }
   ],
   "source": [
    "# Creamos un DataFrame a partir de los datos\n",
    "df = pd.DataFrame(data=iris.data, columns=iris.feature_names)\n",
    "\n",
    "# Creamos la columna 'Species' usando los valores de 'target'\n",
    "df['Species'] = iris.target\n",
    "\n",
    "# Utilizamos la función head para mostrar los primeros registros del Dataset\n",
    "print(df.head())"
   ]
  },
  {
   "cell_type": "markdown",
   "id": "544404bd",
   "metadata": {},
   "source": [
    "Utiliza la función describe para ver los principales valores estadísticos del dataset."
   ]
  },
  {
   "cell_type": "code",
   "execution_count": 346,
   "id": "6000e661",
   "metadata": {},
   "outputs": [
    {
     "name": "stdout",
     "output_type": "stream",
     "text": [
      "       sepal length (cm)  sepal width (cm)  petal length (cm)  \\\n",
      "count         150.000000        150.000000         150.000000   \n",
      "mean            5.843333          3.057333           3.758000   \n",
      "std             0.828066          0.435866           1.765298   \n",
      "min             4.300000          2.000000           1.000000   \n",
      "25%             5.100000          2.800000           1.600000   \n",
      "50%             5.800000          3.000000           4.350000   \n",
      "75%             6.400000          3.300000           5.100000   \n",
      "max             7.900000          4.400000           6.900000   \n",
      "\n",
      "       petal width (cm)     Species  \n",
      "count        150.000000  150.000000  \n",
      "mean           1.199333    1.000000  \n",
      "std            0.762238    0.819232  \n",
      "min            0.100000    0.000000  \n",
      "25%            0.300000    0.000000  \n",
      "50%            1.300000    1.000000  \n",
      "75%            1.800000    2.000000  \n",
      "max            2.500000    2.000000  \n"
     ]
    }
   ],
   "source": [
    "print(df.describe())"
   ]
  },
  {
   "cell_type": "markdown",
   "id": "3d45b129",
   "metadata": {},
   "source": [
    "### Apartado 2: Visualiza los datos con Pyplot."
   ]
  },
  {
   "cell_type": "markdown",
   "id": "e25fa709",
   "metadata": {},
   "source": [
    "Utiliza el paquete Pyplot para hacer representaciones gráficas de los datos. Importa Pyplot de la librería Matplotlib y crea una figura tipo \"dispersión de puntos\" (Scatter plot) con la variable sepal length (cm) en el eje x y la variable sepal width (cm) en el eje y."
   ]
  },
  {
   "cell_type": "code",
   "execution_count": 347,
   "id": "16475730",
   "metadata": {},
   "outputs": [
    {
     "data": {
      "image/png": "[encoded data removed]",
      "text/plain": [
       "<Figure size 640x480 with 1 Axes>"
      ]
     },
     "metadata": {},
     "output_type": "display_data"
    }
   ],
   "source": [
    "# Importamos Pyplot de la libreria matplotlib\n",
    "from matplotlib import pyplot as plt\n",
    "\n",
    "# Creamos un gráfico de dispersión\n",
    "plt.scatter(iris.data[:, 0], iris.data[:, 1])  # Sepal length en eje X y Sepal width en eje Y\n",
    "\n",
    "# Etiquetas y título\n",
    "plt.xlabel('Sepal Length (cm)')\n",
    "plt.ylabel('Sepal Width (cm)')\n",
    "plt.title('Scatter Plot: Sepal Length vs Sepal Width')\n",
    "\n",
    "# Mostramos el gráfico\n",
    "plt.grid(True)\n",
    "plt.show()\n"
   ]
  },
  {
   "cell_type": "markdown",
   "id": "0f81d79f",
   "metadata": {},
   "source": [
    "Crea otra figura distinguiendo con el color azul la especie \"Setosa\", con el color verde la especie \"Versicolor\" y con color rojo la especie \"Virginica\"."
   ]
  },
  {
   "cell_type": "code",
   "execution_count": 366,
   "id": "3f057c10",
   "metadata": {},
   "outputs": [
    {
     "data": {
      "image/png": "[encoded data removed]",
      "text/plain": [
       "<Figure size 640x480 with 1 Axes>"
      ]
     },
     "metadata": {},
     "output_type": "display_data"
    }
   ],
   "source": [
    "# Filtramos los datos por especies\n",
    "setosa = iris.data[iris.target == 0]\n",
    "versicolor = iris.data[iris.target == 1]\n",
    "virginica = iris.data[iris.target == 2]\n",
    "\n",
    "# Creamos el gráfico de dispersión con colores diferentes para cada especie\n",
    "plt.scatter(setosa[:, 0], setosa[:, 1], color='blue', label='Setosa')\n",
    "plt.scatter(versicolor[:, 0], versicolor[:, 1], color='green', label='Versicolor')\n",
    "plt.scatter(virginica[:, 0], virginica[:, 1], color='red', label='Virginica')\n",
    "\n",
    "# Mostramos la leyenda en la gráfica\n",
    "plt.legend()  \n",
    "\n",
    "plt.grid(True)\n",
    "plt.show()"
   ]
  },
  {
   "cell_type": "markdown",
   "id": "5f089da3",
   "metadata": {},
   "source": [
    "Analiza cómo se distribuyen los casos si, en vez de representar según las variables de las dimensiones de los sépalos, utilizas las variables basadas en las dimensiones de los pétalos. Representa los datos en una figura tipo scatter, utilizando en el eje x la variable \"petal length (cm)\" y en el eje y la variable \"petal width\". De nuevo, distingue las especies con tres colores: color azul la especie \"Setosa\", con color verde la especie \"Versicolor\" y con color rojo la especie \"Virginica\"."
   ]
  },
  {
   "cell_type": "code",
   "execution_count": 349,
   "id": "cabc8377",
   "metadata": {},
   "outputs": [
    {
     "data": {
      "image/png": "[encoded data removed]",
      "text/plain": [
       "<Figure size 640x480 with 1 Axes>"
      ]
     },
     "metadata": {},
     "output_type": "display_data"
    }
   ],
   "source": [
    "# Creamos el gráfico de dispersión con colores diferentes para cada especie\n",
    "plt.scatter(setosa[:, 2], setosa[:, 3], color='blue', label='Setosa')\n",
    "plt.scatter(versicolor[:, 2], versicolor[:, 3], color='green', label='Versicolor')\n",
    "plt.scatter(virginica[:, 2], virginica[:, 3], color='red', label='Virginica')\n",
    "\n",
    "# Mostramos la leyenda en la gráfica\n",
    "plt.legend()  \n",
    "\n",
    "plt.grid(True)\n",
    "plt.show()"
   ]
  },
  {
   "cell_type": "markdown",
   "id": "0744c141",
   "metadata": {},
   "source": [
    "### Apartado 3: Entrena modelos de aprendizaje automático con Scikit-learn. "
   ]
  },
  {
   "cell_type": "markdown",
   "id": "e3eeb058",
   "metadata": {},
   "source": [
    "Importa los módulos de la librería Scikit-learn que nos permiten hacer un modelo de regresión lineal, un modelo de máquina de vectores soporte, un modelo de tipo los K vecinos más cercanos (KNN), y un modelo de tipo árbol de decisión."
   ]
  },
  {
   "cell_type": "code",
   "execution_count": 368,
   "id": "0b9784f4",
   "metadata": {},
   "outputs": [],
   "source": [
    "from sklearn.linear_model import LogisticRegression\n",
    "from sklearn.svm import SVC\n",
    "from sklearn.neighbors import KNeighborsClassifier\n",
    "from sklearn.tree import DecisionTreeClassifier"
   ]
  },
  {
   "cell_type": "markdown",
   "id": "99774554",
   "metadata": {},
   "source": [
    "Genera el conjunto de datos X con las variables de entrada a los modelos, y el conjunto y de las etiquetas o variable de salida del modelo, eligiendo para éste último, la variable \"Species\"."
   ]
  },
  {
   "cell_type": "code",
   "execution_count": 351,
   "id": "6d79fb2b",
   "metadata": {},
   "outputs": [
    {
     "name": "stdout",
     "output_type": "stream",
     "text": [
      "[[5.1 3.5 1.4 0.2]\n",
      " [4.9 3.  1.4 0.2]\n",
      " [4.7 3.2 1.3 0.2]\n",
      " [4.6 3.1 1.5 0.2]\n",
      " [5.  3.6 1.4 0.2]\n",
      " [5.4 3.9 1.7 0.4]\n",
      " [4.6 3.4 1.4 0.3]\n",
      " [5.  3.4 1.5 0.2]\n",
      " [4.4 2.9 1.4 0.2]\n",
      " [4.9 3.1 1.5 0.1]\n",
      " [5.4 3.7 1.5 0.2]\n",
      " [4.8 3.4 1.6 0.2]\n",
      " [4.8 3.  1.4 0.1]\n",
      " [4.3 3.  1.1 0.1]\n",
      " [5.8 4.  1.2 0.2]\n",
      " [5.7 4.4 1.5 0.4]\n",
      " [5.4 3.9 1.3 0.4]\n",
      " [5.1 3.5 1.4 0.3]\n",
      " [5.7 3.8 1.7 0.3]\n",
      " [5.1 3.8 1.5 0.3]\n",
      " [5.4 3.4 1.7 0.2]\n",
      " [5.1 3.7 1.5 0.4]\n",
      " [4.6 3.6 1.  0.2]\n",
      " [5.1 3.3 1.7 0.5]\n",
      " [4.8 3.4 1.9 0.2]\n",
      " [5.  3.  1.6 0.2]\n",
      " [5.  3.4 1.6 0.4]\n",
      " [5.2 3.5 1.5 0.2]\n",
      " [5.2 3.4 1.4 0.2]\n",
      " [4.7 3.2 1.6 0.2]\n",
      " [4.8 3.1 1.6 0.2]\n",
      " [5.4 3.4 1.5 0.4]\n",
      " [5.2 4.1 1.5 0.1]\n",
      " [5.5 4.2 1.4 0.2]\n",
      " [4.9 3.1 1.5 0.2]\n",
      " [5.  3.2 1.2 0.2]\n",
      " [5.5 3.5 1.3 0.2]\n",
      " [4.9 3.6 1.4 0.1]\n",
      " [4.4 3.  1.3 0.2]\n",
      " [5.1 3.4 1.5 0.2]\n",
      " [5.  3.5 1.3 0.3]\n",
      " [4.5 2.3 1.3 0.3]\n",
      " [4.4 3.2 1.3 0.2]\n",
      " [5.  3.5 1.6 0.6]\n",
      " [5.1 3.8 1.9 0.4]\n",
      " [4.8 3.  1.4 0.3]\n",
      " [5.1 3.8 1.6 0.2]\n",
      " [4.6 3.2 1.4 0.2]\n",
      " [5.3 3.7 1.5 0.2]\n",
      " [5.  3.3 1.4 0.2]\n",
      " [7.  3.2 4.7 1.4]\n",
      " [6.4 3.2 4.5 1.5]\n",
      " [6.9 3.1 4.9 1.5]\n",
      " [5.5 2.3 4.  1.3]\n",
      " [6.5 2.8 4.6 1.5]\n",
      " [5.7 2.8 4.5 1.3]\n",
      " [6.3 3.3 4.7 1.6]\n",
      " [4.9 2.4 3.3 1. ]\n",
      " [6.6 2.9 4.6 1.3]\n",
      " [5.2 2.7 3.9 1.4]\n",
      " [5.  2.  3.5 1. ]\n",
      " [5.9 3.  4.2 1.5]\n",
      " [6.  2.2 4.  1. ]\n",
      " [6.1 2.9 4.7 1.4]\n",
      " [5.6 2.9 3.6 1.3]\n",
      " [6.7 3.1 4.4 1.4]\n",
      " [5.6 3.  4.5 1.5]\n",
      " [5.8 2.7 4.1 1. ]\n",
      " [6.2 2.2 4.5 1.5]\n",
      " [5.6 2.5 3.9 1.1]\n",
      " [5.9 3.2 4.8 1.8]\n",
      " [6.1 2.8 4.  1.3]\n",
      " [6.3 2.5 4.9 1.5]\n",
      " [6.1 2.8 4.7 1.2]\n",
      " [6.4 2.9 4.3 1.3]\n",
      " [6.6 3.  4.4 1.4]\n",
      " [6.8 2.8 4.8 1.4]\n",
      " [6.7 3.  5.  1.7]\n",
      " [6.  2.9 4.5 1.5]\n",
      " [5.7 2.6 3.5 1. ]\n",
      " [5.5 2.4 3.8 1.1]\n",
      " [5.5 2.4 3.7 1. ]\n",
      " [5.8 2.7 3.9 1.2]\n",
      " [6.  2.7 5.1 1.6]\n",
      " [5.4 3.  4.5 1.5]\n",
      " [6.  3.4 4.5 1.6]\n",
      " [6.7 3.1 4.7 1.5]\n",
      " [6.3 2.3 4.4 1.3]\n",
      " [5.6 3.  4.1 1.3]\n",
      " [5.5 2.5 4.  1.3]\n",
      " [5.5 2.6 4.4 1.2]\n",
      " [6.1 3.  4.6 1.4]\n",
      " [5.8 2.6 4.  1.2]\n",
      " [5.  2.3 3.3 1. ]\n",
      " [5.6 2.7 4.2 1.3]\n",
      " [5.7 3.  4.2 1.2]\n",
      " [5.7 2.9 4.2 1.3]\n",
      " [6.2 2.9 4.3 1.3]\n",
      " [5.1 2.5 3.  1.1]\n",
      " [5.7 2.8 4.1 1.3]\n",
      " [6.3 3.3 6.  2.5]\n",
      " [5.8 2.7 5.1 1.9]\n",
      " [7.1 3.  5.9 2.1]\n",
      " [6.3 2.9 5.6 1.8]\n",
      " [6.5 3.  5.8 2.2]\n",
      " [7.6 3.  6.6 2.1]\n",
      " [4.9 2.5 4.5 1.7]\n",
      " [7.3 2.9 6.3 1.8]\n",
      " [6.7 2.5 5.8 1.8]\n",
      " [7.2 3.6 6.1 2.5]\n",
      " [6.5 3.2 5.1 2. ]\n",
      " [6.4 2.7 5.3 1.9]\n",
      " [6.8 3.  5.5 2.1]\n",
      " [5.7 2.5 5.  2. ]\n",
      " [5.8 2.8 5.1 2.4]\n",
      " [6.4 3.2 5.3 2.3]\n",
      " [6.5 3.  5.5 1.8]\n",
      " [7.7 3.8 6.7 2.2]\n",
      " [7.7 2.6 6.9 2.3]\n",
      " [6.  2.2 5.  1.5]\n",
      " [6.9 3.2 5.7 2.3]\n",
      " [5.6 2.8 4.9 2. ]\n",
      " [7.7 2.8 6.7 2. ]\n",
      " [6.3 2.7 4.9 1.8]\n",
      " [6.7 3.3 5.7 2.1]\n",
      " [7.2 3.2 6.  1.8]\n",
      " [6.2 2.8 4.8 1.8]\n",
      " [6.1 3.  4.9 1.8]\n",
      " [6.4 2.8 5.6 2.1]\n",
      " [7.2 3.  5.8 1.6]\n",
      " [7.4 2.8 6.1 1.9]\n",
      " [7.9 3.8 6.4 2. ]\n",
      " [6.4 2.8 5.6 2.2]\n",
      " [6.3 2.8 5.1 1.5]\n",
      " [6.1 2.6 5.6 1.4]\n",
      " [7.7 3.  6.1 2.3]\n",
      " [6.3 3.4 5.6 2.4]\n",
      " [6.4 3.1 5.5 1.8]\n",
      " [6.  3.  4.8 1.8]\n",
      " [6.9 3.1 5.4 2.1]\n",
      " [6.7 3.1 5.6 2.4]\n",
      " [6.9 3.1 5.1 2.3]\n",
      " [5.8 2.7 5.1 1.9]\n",
      " [6.8 3.2 5.9 2.3]\n",
      " [6.7 3.3 5.7 2.5]\n",
      " [6.7 3.  5.2 2.3]\n",
      " [6.3 2.5 5.  1.9]\n",
      " [6.5 3.  5.2 2. ]\n",
      " [6.2 3.4 5.4 2.3]\n",
      " [5.9 3.  5.1 1.8]]\n",
      "[0 0 0 0 0 0 0 0 0 0 0 0 0 0 0 0 0 0 0 0 0 0 0 0 0 0 0 0 0 0 0 0 0 0 0 0 0\n",
      " 0 0 0 0 0 0 0 0 0 0 0 0 0 1 1 1 1 1 1 1 1 1 1 1 1 1 1 1 1 1 1 1 1 1 1 1 1\n",
      " 1 1 1 1 1 1 1 1 1 1 1 1 1 1 1 1 1 1 1 1 1 1 1 1 1 1 2 2 2 2 2 2 2 2 2 2 2\n",
      " 2 2 2 2 2 2 2 2 2 2 2 2 2 2 2 2 2 2 2 2 2 2 2 2 2 2 2 2 2 2 2 2 2 2 2 2 2\n",
      " 2 2]\n"
     ]
    }
   ],
   "source": [
    "# Generamos el conjunto X con las variables de entrada\n",
    "X = iris.data\n",
    "print(X)\n",
    "# Generamos el conjunto y con las variables de salida (Species)\n",
    "y = iris.target\n",
    "print(y)"
   ]
  },
  {
   "cell_type": "markdown",
   "id": "2b6c3ccb",
   "metadata": {},
   "source": [
    "Utiliza la función train_test_split para separar los datos en el conjunto train y test según el ejemplo."
   ]
  },
  {
   "cell_type": "code",
   "execution_count": 352,
   "id": "1c55bfdb",
   "metadata": {},
   "outputs": [],
   "source": [
    "# Importamos el módulo train_test_split de la librería \n",
    "from sklearn.model_selection import train_test_split\n",
    "\n",
    "# Dividimos el conjunto de datos en conjuntos de entrenamiento y prueba\n",
    "X_train, X_test, y_train, y_test = train_test_split(X, y, train_size=0.7, shuffle=True, random_state=1)"
   ]
  },
  {
   "cell_type": "markdown",
   "id": "721a3589",
   "metadata": {},
   "source": [
    "Crea un modelo de Regresión Logística. Utiliza la función fit para entrenarlo y utiliza la función predict sobre los datos de test para medir la precisión del modelo. Muestra el valor de dicha precisión con print."
   ]
  },
  {
   "cell_type": "code",
   "execution_count": 353,
   "id": "b18bbc29",
   "metadata": {},
   "outputs": [
    {
     "name": "stdout",
     "output_type": "stream",
     "text": [
      "Precisión:  0.9777777777777777\n"
     ]
    }
   ],
   "source": [
    "# Creamos el modelo de Regresión Logística\n",
    "model = LogisticRegression()\n",
    "\n",
    "# Entrenamos el modelo\n",
    "model.fit(X_train, y_train)\n",
    "\n",
    "# Realizamos predicciones sobre los datos de prueba\n",
    "y_pred = model.predict(X_test)\n",
    "\n",
    "# Mostramos la precisión del modelo\n",
    "print('Precisión: ', model.score(X_test,y_test))"
   ]
  },
  {
   "cell_type": "markdown",
   "id": "fa7685e6",
   "metadata": {},
   "source": [
    "Crea un modelo de SVC o Máquinas de Vectores de Soporte, entrénalo y calcula la precisión utilizando los datos de test. Muestra la precisión."
   ]
  },
  {
   "cell_type": "code",
   "execution_count": 354,
   "id": "2935a9ea",
   "metadata": {},
   "outputs": [
    {
     "name": "stdout",
     "output_type": "stream",
     "text": [
      "Precisión:  0.9777777777777777\n"
     ]
    }
   ],
   "source": [
    "# Creamos el modelo de Máquinas de Vectores de Soporte (SVC)\n",
    "model = SVC()\n",
    "\n",
    "# Entrenamos el modelo\n",
    "model.fit(X_train, y_train)\n",
    "\n",
    "# Realizamos predicciones sobre los datos de prueba\n",
    "# y_pred = model.predict(X_test)\n",
    "\n",
    "# Mostramos la precisión del modelo\n",
    "print('Precisión: ', model.score(X_test,y_test))"
   ]
  },
  {
   "cell_type": "markdown",
   "id": "aa6270f3",
   "metadata": {},
   "source": [
    "Crea un modelo de KNN o K vecinos más cercanos, entrénalo y calcula la precisión utilizando los datos de test. Muestra la precisión."
   ]
  },
  {
   "cell_type": "code",
   "execution_count": 355,
   "id": "2462f23e",
   "metadata": {},
   "outputs": [
    {
     "name": "stdout",
     "output_type": "stream",
     "text": [
      "Precisión:  0.9777777777777777\n"
     ]
    }
   ],
   "source": [
    "# Creamos el modelo de KNN (K vecinos más cercanos).\n",
    "model = KNeighborsClassifier()\n",
    "\n",
    "# Entrenamos el modelo\n",
    "model.fit(X_train, y_train)\n",
    "\n",
    "# Realizamos predicciones sobre los datos de prueba\n",
    "# y_pred = model.predict(X_test)\n",
    "\n",
    "# Mostramos la precisión del modelo\n",
    "print('Precisión: ', model.score(X_test,y_test))"
   ]
  },
  {
   "cell_type": "markdown",
   "id": "cab61725",
   "metadata": {},
   "source": [
    "Crea un modelo de árbol de decisión, entrénalo y calcula la precisión utilizando los datos de test. Muestra la precisión."
   ]
  },
  {
   "cell_type": "code",
   "execution_count": 356,
   "id": "f4f10d5f",
   "metadata": {},
   "outputs": [
    {
     "name": "stdout",
     "output_type": "stream",
     "text": [
      "Precisión:  0.9555555555555556\n"
     ]
    }
   ],
   "source": [
    "# Creamos el modelo de Árbol de Decisión\n",
    "model = DecisionTreeClassifier()  # Puedes ajustar la profundidad del árbol según sea necesario\n",
    "\n",
    "# Entrenamos el modelo\n",
    "model.fit(X_train, y_train)\n",
    "\n",
    "# Realizar predicciones sobre los datos de prueba\n",
    "# y_pred = model.predict(X_test)\n",
    "\n",
    "# Mostramos la precisión del modelo\n",
    "print('Precisión: ', model.score(X_test,y_test))"
   ]
  },
  {
   "cell_type": "markdown",
   "id": "2c821e1b",
   "metadata": {},
   "source": [
    "Compara los valores de precisión que has ido consiguiendo en los diferentes modelos. ¿Cuál sería el mejor para este dataset?"
   ]
  },
  {
   "cell_type": "code",
   "execution_count": 357,
   "id": "20154bf6",
   "metadata": {},
   "outputs": [
    {
     "name": "stdout",
     "output_type": "stream",
     "text": [
      "Regresión Logística: 97.78%\n",
      "Máquinas de Vectores Soporte: 97.78%\n",
      "K vecinos más cercanos: 97.78%\n",
      "Árbol de Decisión: 95.56%\n"
     ]
    }
   ],
   "source": [
    "# Creamos un diccionario con los modelos utilizados\n",
    "models = {\n",
    "    \"Regresión Logística\": LogisticRegression(),\n",
    "    \"Máquinas de Vectores Soporte\": SVC(),\n",
    "    \"K vecinos más cercanos\": KNeighborsClassifier(),\n",
    "    \"Árbol de Decisión\": DecisionTreeClassifier(),\n",
    "}\n",
    "\n",
    "# Entrenamos todos los modelos con un buble for\n",
    "for name, model in models.items():\n",
    "    model.fit(X_train, y_train)\n",
    "    \n",
    "# Mostramos las precisiones de los modelos en porcentaje\n",
    "for name, model in models.items():\n",
    "    print(name + \": {:.2f}%\".format(model.score(X_test, y_test) * 100))"
   ]
  },
  {
   "cell_type": "markdown",
   "id": "69a4f372",
   "metadata": {},
   "source": [
    "El mejor modelo para este dataset es aquel que tenga un valor más elevado. En este caso, los modelos de regresión logística, SVC y KNN nos ofrecen el valor más alto, mientras que el modelo de árbol es inferior. Por ello, sería apto cualquiera de los tres modelos que tienen un valor de 97.78%."
   ]
  },
  {
   "cell_type": "markdown",
   "id": "a9245eba",
   "metadata": {},
   "source": [
    "### Apartado 4: Entrena modelos de aprendizaje automático con pocas variables."
   ]
  },
  {
   "cell_type": "markdown",
   "id": "421c8b0d",
   "metadata": {},
   "source": [
    "Imagina que no has podido tener todas las variables, y que solo has conseguido los valores de las medidas de los sépalos, y con esos datos debes entrenar un modelo que acierte con el tipo de especie de flor de iris. Para ello, crea un nuevo dataset que tenga solo las columnas de las dimensiones de los sépalos y la de la especie."
   ]
  },
  {
   "cell_type": "code",
   "execution_count": 367,
   "id": "cb28bbf7",
   "metadata": {},
   "outputs": [
    {
     "name": "stdout",
     "output_type": "stream",
     "text": [
      "     sepal length (cm)  sepal width (cm)  Species\n",
      "0                  5.1               3.5        0\n",
      "1                  4.9               3.0        0\n",
      "2                  4.7               3.2        0\n",
      "3                  4.6               3.1        0\n",
      "4                  5.0               3.6        0\n",
      "..                 ...               ...      ...\n",
      "145                6.7               3.0        2\n",
      "146                6.3               2.5        2\n",
      "147                6.5               3.0        2\n",
      "148                6.2               3.4        2\n",
      "149                5.9               3.0        2\n",
      "\n",
      "[150 rows x 3 columns]\n"
     ]
    }
   ],
   "source": [
    "# Seleccionamos las columnas indicadas\n",
    "sepal_df = df[['sepal length (cm)', 'sepal width (cm)', 'Species']]\n",
    "\n",
    "# Mostramos las primeras filas del nuevo dataset\n",
    "print(sepal_df)"
   ]
  },
  {
   "cell_type": "markdown",
   "id": "7697e002",
   "metadata": {},
   "source": [
    "Separa los datos en X_sepalo para las variables de entrada e y_sepalo para la variable de salida."
   ]
  },
  {
   "cell_type": "code",
   "execution_count": 359,
   "id": "d1a82cde",
   "metadata": {},
   "outputs": [],
   "source": [
    "# Variables de entrada\n",
    "X_sepalo = sepal_df[['sepal length (cm)', 'sepal width (cm)']]\n",
    "\n",
    "# Variable de salida\n",
    "y_sepalo = sepal_df['Species']"
   ]
  },
  {
   "cell_type": "markdown",
   "id": "2f8a28cf",
   "metadata": {},
   "source": [
    "Separa los datos en un conjunto X_train_s, X_test_s,y_train_s, y_test_s, para entrenamiento y test del modelo."
   ]
  },
  {
   "cell_type": "code",
   "execution_count": 360,
   "id": "b14ee55b",
   "metadata": {},
   "outputs": [],
   "source": [
    "X_train_s, X_test_s, y_train_s, y_test_s = train_test_split(X_sepalo, y_sepalo, train_size=0.7, shuffle=True, random_state=1)"
   ]
  },
  {
   "cell_type": "markdown",
   "id": "41b67c2f",
   "metadata": {},
   "source": [
    "Crea, entrena y mide la precisión de un modelo de Regresión Logística. Muestra la precisión. ¿Es muy diferente al mismo modelo del apartado anterior?"
   ]
  },
  {
   "cell_type": "code",
   "execution_count": 361,
   "id": "ee108923",
   "metadata": {},
   "outputs": [
    {
     "name": "stdout",
     "output_type": "stream",
     "text": [
      "Precisión:  0.7555555555555555\n"
     ]
    }
   ],
   "source": [
    "# Creamos el modelo de Regresión Logística\n",
    "model_sepalo = LogisticRegression()\n",
    "\n",
    "# Entrenamos el modelo\n",
    "model_sepalo.fit(X_train_s, y_train_s)\n",
    "\n",
    "# Mostramos la precisión del modelo\n",
    "print('Precisión: ', model_sepalo.score(X_test_s,y_test_s))"
   ]
  },
  {
   "cell_type": "markdown",
   "id": "acf3dad2",
   "metadata": {},
   "source": [
    "La precisión del modelo ha bajado de 97.78% a 75.55%."
   ]
  },
  {
   "cell_type": "markdown",
   "id": "630afe18",
   "metadata": {},
   "source": [
    "Crea, entrena y mide la precisión de un modelo de Máquinas de Vectores Soporte. Muestra la precisión ¿Es muy diferente al mismo tipo de modelo del apartado anterior?"
   ]
  },
  {
   "cell_type": "code",
   "execution_count": 362,
   "id": "9f4c0ef7",
   "metadata": {},
   "outputs": [
    {
     "name": "stdout",
     "output_type": "stream",
     "text": [
      "Precisión:  0.7777777777777778\n"
     ]
    }
   ],
   "source": [
    "# Creamos el modelo de KNN\n",
    "model_sepalo = SVC()\n",
    "\n",
    "# Entrenamos el modelo\n",
    "model_sepalo.fit(X_train_s, y_train_s)\n",
    "\n",
    "# Mostramos la precisión del modelo\n",
    "print('Precisión: ', model_sepalo.score(X_test_s,y_test_s))"
   ]
  },
  {
   "cell_type": "markdown",
   "id": "4c1c9716",
   "metadata": {},
   "source": [
    "La precisión del modelo ha bajado de 97.78% a 77.77%."
   ]
  },
  {
   "cell_type": "markdown",
   "id": "96ff00c7",
   "metadata": {},
   "source": [
    "Crea, entrena y mide la precisión de un modelo de K vecinos más cercanos. Muestra la precisión ¿Es muy diferente al mismo tipo de modelo del apartado anterior?"
   ]
  },
  {
   "cell_type": "code",
   "execution_count": 363,
   "id": "c9bd4c8d",
   "metadata": {},
   "outputs": [
    {
     "name": "stdout",
     "output_type": "stream",
     "text": [
      "Precisión:  0.7555555555555555\n"
     ]
    }
   ],
   "source": [
    "# Crearmos el modelo de K vecinos más cercanos (KNN)\n",
    "model_sepalo = KNeighborsClassifier()\n",
    "\n",
    "# Entrenamos el modelo\n",
    "model_sepalo.fit(X_train_s, y_train_s)\n",
    "\n",
    "# Mostramos la precisión del modelo\n",
    "print('Precisión: ', model_sepalo.score(X_test_s,y_test_s))"
   ]
  },
  {
   "cell_type": "markdown",
   "id": "c2ec1509",
   "metadata": {},
   "source": [
    "La precisión del modelo ha bajado de 97.78% a 73.33%."
   ]
  },
  {
   "cell_type": "markdown",
   "id": "4ace602e",
   "metadata": {},
   "source": [
    "Crea, entrena y mide la precisión de un modelo de Árbol de decisión. Muestra la precisión ¿Es muy diferente al mismo tipo de modelo del apartado anterior?"
   ]
  },
  {
   "cell_type": "code",
   "execution_count": 364,
   "id": "876500b5",
   "metadata": {},
   "outputs": [
    {
     "name": "stdout",
     "output_type": "stream",
     "text": [
      "Precisión:  0.6222222222222222\n"
     ]
    }
   ],
   "source": [
    "# Creamos el modelo de Árbol de Decisión\n",
    "model_sepalo = DecisionTreeClassifier()\n",
    "\n",
    "# Entrenar el modelo con los datos de entrenamiento\n",
    "model_sepalo.fit(X_train_s, y_train_s)\n",
    "\n",
    "# Mostramos la precisión del modelo\n",
    "print('Precisión: ', model_sepalo.score(X_test_s,y_test_s))"
   ]
  },
  {
   "cell_type": "markdown",
   "id": "04e8a20c",
   "metadata": {},
   "source": [
    "La precisión del modelo ha bajado de 95.56% a 62.22%."
   ]
  },
  {
   "cell_type": "markdown",
   "id": "5548d0dc",
   "metadata": {},
   "source": [
    "Compara los valores de precisión que has ido consiguiendo en los diferentes modelos. ¿Cuál sería el mejor para este dataset?"
   ]
  },
  {
   "cell_type": "code",
   "execution_count": 365,
   "id": "da506bc5",
   "metadata": {},
   "outputs": [
    {
     "name": "stdout",
     "output_type": "stream",
     "text": [
      "Regresión Logística: 75.56%\n",
      "Máquinas de Vectores Soporte: 77.78%\n",
      "K vecinos más cercanos: 75.56%\n",
      "Árbol de Decisión: 62.22%\n"
     ]
    }
   ],
   "source": [
    "# Creamos un diccionario con los modelos utilizados\n",
    "models = {\n",
    "    \"Regresión Logística\": LogisticRegression(),\n",
    "    \"Máquinas de Vectores Soporte\": SVC(),\n",
    "    \"K vecinos más cercanos\": KNeighborsClassifier(),\n",
    "    \"Árbol de Decisión\": DecisionTreeClassifier(),\n",
    "}\n",
    "\n",
    "# Entrenamos todos los modelos con un buble for\n",
    "for name, model in models.items():\n",
    "    model.fit(X_train_s, y_train_s)\n",
    "    \n",
    "# Mostramos las precisiones de los modelos en porcentaje\n",
    "for name, model in models.items():\n",
    "    print(name + \": {:.2f}%\".format(model.score(X_test_s, y_test_s) * 100))"
   ]
  },
  {
   "cell_type": "markdown",
   "id": "7e4705fe",
   "metadata": {},
   "source": [
    "El mejor modelo para este dataset es aquel que tenga un valor más elevado. En este caso, el modelo de Máquinas de Vectores Soporte tiene el porcentaje más elevado con 77.78% y sería el mejor para este dataset. Después irían el modelo KNN y el modelo de arbol con un 75.56%. Por último, el modelo de árbol que es el más bajo de todos con un 62.22%.\n",
    "\n"
   ]
  }
 ],
 "metadata": {
  "kernelspec": {
   "display_name": "Python 3 (ipykernel)",
   "language": "python",
   "name": "python3"
  },
  "language_info": {
   "codemirror_mode": {
    "name": "ipython",
    "version": 3
   },
   "file_extension": ".py",
   "mimetype": "text/x-python",
   "name": "python",
   "nbconvert_exporter": "python",
   "pygments_lexer": "ipython3",
   "version": "3.11.5"
  }
 },
 "nbformat": 4,
 "nbformat_minor": 5
}
