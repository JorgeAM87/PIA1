{
  "nbformat": 4,
  "nbformat_minor": 0,
  "metadata": {
    "colab": {
      "provenance": []
    },
    "kernelspec": {
      "name": "python3",
      "display_name": "Python 3"
    },
    "language_info": {
      "name": "python"
    }
  },
  "cells": [
    {
      "cell_type": "code",
      "execution_count": null,
      "metadata": {
        "colab": {
          "base_uri": "https://localhost:8080/"
        },
        "id": "8u4EqWQtl0ym",
        "outputId": "181eca85-84bb-4112-df02-0175084a5ae2"
      },
      "outputs": [
        {
          "output_type": "stream",
          "name": "stdout",
          "text": [
            "The Zen of Python, by Tim Peters\n",
            "\n",
            "Beautiful is better than ugly.\n",
            "Explicit is better than implicit.\n",
            "Simple is better than complex.\n",
            "Complex is better than complicated.\n",
            "Flat is better than nested.\n",
            "Sparse is better than dense.\n",
            "Readability counts.\n",
            "Special cases aren't special enough to break the rules.\n",
            "Although practicality beats purity.\n",
            "Errors should never pass silently.\n",
            "Unless explicitly silenced.\n",
            "In the face of ambiguity, refuse the temptation to guess.\n",
            "There should be one-- and preferably only one --obvious way to do it.\n",
            "Although that way may not be obvious at first unless you're Dutch.\n",
            "Now is better than never.\n",
            "Although never is often better than *right* now.\n",
            "If the implementation is hard to explain, it's a bad idea.\n",
            "If the implementation is easy to explain, it may be a good idea.\n",
            "Namespaces are one honking great idea -- let's do more of those!\n"
          ]
        }
      ],
      "source": [
        " import this"
      ]
    },
    {
      "cell_type": "code",
      "source": [
        "ciudades = [\"Zaragoza\", \"Barcelona\", \"Madrid\", \"Valencia\", \"Bilbao\", \"Pontevedra\", \"Lugo\", \"Ibiza\", \"Sevilla\", \"Albacete\"]\n",
        "print(ciudades)"
      ],
      "metadata": {
        "colab": {
          "base_uri": "https://localhost:8080/"
        },
        "id": "fpD0Gan8mfry",
        "outputId": "6fbc0053-be62-4400-ea26-3654d51e5c32"
      },
      "execution_count": null,
      "outputs": [
        {
          "output_type": "stream",
          "name": "stdout",
          "text": [
            "['Zaragoza', 'Barcelona', 'Madrid', 'Valencia', 'Bilbao', 'Pontevedra', 'Lugo', 'Ibiza', 'Sevilla', 'Albacete']\n"
          ]
        }
      ]
    },
    {
      "cell_type": "code",
      "source": [
        "artistas = [\"Pedro\", \"Javier\", \"Miguel\", \"Ana\", \"Jorge\", \"Maria\", \"Pablo\", \"Juan\", \"Marta\", \"Sandra\"]\n",
        "print(artistas)"
      ],
      "metadata": {
        "colab": {
          "base_uri": "https://localhost:8080/"
        },
        "id": "f0uuUCmcoVMP",
        "outputId": "3e947093-2b21-419e-a350-f1c52106e3f5"
      },
      "execution_count": null,
      "outputs": [
        {
          "output_type": "stream",
          "name": "stdout",
          "text": [
            "['Pedro', 'Javier', 'Miguel', 'Ana', 'Jorge', 'Maria', 'Pablo', 'Juan', 'Marta', 'Sandra']\n"
          ]
        }
      ]
    },
    {
      "cell_type": "code",
      "source": [
        "conciertos = {\"Pedro\": \"Zaragoza\", \"Javier\": \"Barcelona\", \"Miguel\": \"Madrid\", \"Ana\": \"Valencia\", \"Jorge\": \"Bilbao\",\n",
        "              \"Maria\": \"Pontevedra\", \"Pablo\": \"Lugo\", \"Juan\": \"Ibiza\", \"Marta\": \"Sevilla\", \"Sandra\": \"Albacete\"}\n",
        "conciertos [\"Maria\"]"
      ],
      "metadata": {
        "colab": {
          "base_uri": "https://localhost:8080/",
          "height": 35
        },
        "id": "_kt2wvHppYxb",
        "outputId": "ecf64a0b-15e6-4a75-d12d-1bfdd3453e77"
      },
      "execution_count": null,
      "outputs": [
        {
          "output_type": "execute_result",
          "data": {
            "text/plain": [
              "'Pontevedra'"
            ],
            "application/vnd.google.colaboratory.intrinsic+json": {
              "type": "string"
            }
          },
          "metadata": {},
          "execution_count": 8
        }
      ]
    },
    {
      "cell_type": "code",
      "source": [
        "print(\"Estos son los conciertos para esta semana:\", conciertos)"
      ],
      "metadata": {
        "colab": {
          "base_uri": "https://localhost:8080/"
        },
        "id": "E5uctNkEqn9y",
        "outputId": "0af36f48-0cb0-4eed-f796-6c1898d95ee1"
      },
      "execution_count": null,
      "outputs": [
        {
          "output_type": "stream",
          "name": "stdout",
          "text": [
            "Estos son los conciertos para esta semana: {'Pedro': 'Zaragoza', 'Javier': 'Barcelona', 'Miguel': 'Madrid', 'Ana': 'Valencia', 'Jorge': 'Bilbao', 'Maria': 'Pontevedra', 'Pablo': 'Lugo', 'Juan': 'Ibiza', 'Marta': 'Sevilla', 'Sandra': 'Albacete'}\n"
          ]
        }
      ]
    },
    {
      "cell_type": "code",
      "source": [
        "for clave in conciertos:\n",
        "    conciertos[clave] = \"Salamanca\"\n",
        "\n",
        "conciertos"
      ],
      "metadata": {
        "colab": {
          "base_uri": "https://localhost:8080/"
        },
        "id": "qhXCcWIzrWzn",
        "outputId": "e7889d43-991c-4385-cc00-02817de71bbe"
      },
      "execution_count": 21,
      "outputs": [
        {
          "output_type": "execute_result",
          "data": {
            "text/plain": [
              "{'Pedro': 'Salamanca',\n",
              " 'Javier': 'Salamanca',\n",
              " 'Miguel': 'Salamanca',\n",
              " 'Ana': 'Salamanca',\n",
              " 'Jorge': 'Salamanca',\n",
              " 'Maria': 'Salamanca',\n",
              " 'Pablo': 'Salamanca',\n",
              " 'Juan': 'Salamanca',\n",
              " 'Marta': 'Salamanca',\n",
              " 'Sandra': 'Salamanca'}"
            ]
          },
          "metadata": {},
          "execution_count": 21
        }
      ]
    },
    {
      "cell_type": "code",
      "source": [
        "conciertos[\"Pedro\"] = \"Huesca\"\n",
        "conciertos[\"Javier\"] = \"Logroño\"\n",
        "conciertos[\"Miguel\"] = \"Teruel\"\n",
        "conciertos[\"Ana\"] = \"Pamplona\"\n",
        "conciertos[\"Jorge\"] = \"Oviedo\"\n",
        "conciertos[\"Maria\"] = \"Vigo\"\n",
        "conciertos[\"Pablo\"] = \"Cuenca\"\n",
        "conciertos[\"Juan\"] = \"Murcia\"\n",
        "conciertos[\"Marta\"] = \"Cadiz\"\n",
        "conciertos[\"Sandra\"] = \"Huelva\"\n",
        "\n",
        "conciertos"
      ],
      "metadata": {
        "colab": {
          "base_uri": "https://localhost:8080/"
        },
        "id": "vPoFHJS-6VxR",
        "outputId": "51e415e9-79d9-44fb-f3dd-1d01e9898eb2"
      },
      "execution_count": 22,
      "outputs": [
        {
          "output_type": "execute_result",
          "data": {
            "text/plain": [
              "{'Pedro': 'Huesca',\n",
              " 'Javier': 'Logroño',\n",
              " 'Miguel': 'Teruel',\n",
              " 'Ana': 'Pamplona',\n",
              " 'Jorge': 'Oviedo',\n",
              " 'Maria': 'Vigo',\n",
              " 'Pablo': 'Cuenca',\n",
              " 'Juan': 'Murcia',\n",
              " 'Marta': 'Cadiz',\n",
              " 'Sandra': 'Huelva'}"
            ]
          },
          "metadata": {},
          "execution_count": 22
        }
      ]
    }
  ]
}