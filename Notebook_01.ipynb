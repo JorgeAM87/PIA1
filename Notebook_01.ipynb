{
 "cells": [
  {
   "cell_type": "markdown",
   "id": "c9f99a2f-68d1-4877-9de5-23d222be77b5",
   "metadata": {},
   "source": [
    "## <b>TAREA 3</b> <em>Entornos de programación de IA con Python.</em>"
   ]
  },
  {
   "cell_type": "markdown",
   "id": "af1beed9",
   "metadata": {},
   "source": [
    "### APARTADO 2: Utiliza el lenguaje de marcación para dar contexto y documentar el notebook."
   ]
  },
  {
   "cell_type": "markdown",
   "id": "a0f9f8b3",
   "metadata": {},
   "source": [
    "En el siguiente enlace encontrarás toda la información relevante acerca de cómo utilizar Jupyter Notebook. \n",
    "\n",
    "<em> Contiene información muy útil, <b>¡aprovéchala!</b></em>\n",
    "\n",
    "https://jupyter-notebook.readthedocs.io/en/stable/examples/Notebook/Working%20With%20Markdown%20Cells.html"
   ]
  },
  {
   "cell_type": "markdown",
   "id": "08b44fcd-2498-4b4e-95aa-8d4345054b3d",
   "metadata": {},
   "source": [
    "<table align=\"center\">\n",
    "  <td>\n",
    "    <a target=\"_blank\" href=\"https://jupyter-notebook.readthedocs.io/en/stable/examples/Notebook/Working%20With%20Markdown%20Cells.html\"><img src=\"https://jupyter.org/assets/homepage/main-logo.svg\" /></a>\n",
    "  </td>\n",
    "</table>"
   ]
  },
  {
   "cell_type": "markdown",
   "id": "814eb7b1",
   "metadata": {},
   "source": [
    "# Imágenes"
   ]
  },
  {
   "cell_type": "code",
   "execution_count": 5,
   "id": "63afbc6a",
   "metadata": {},
   "outputs": [],
   "source": [
    "# Para insertar una imagen, solo hay que seguir este formato <img src=\"<img src=\"Ruta relativa o absoluta de la imagen\" />\n",
    "# En el ejemplo anterior, hemos creado un hipervínculo asociado a la imagen y una tabla para centrarlo en la mitad de la celda.\n",
    "# El código completo de la celda anterior es el siguiente:\n",
    "\n",
    "# <table align=\"center\">\n",
    "#  <td>\n",
    "#    <a target=\"_blank\" href=\"https://jupyter-notebook.readthedocs.io/en/stable/examples/Notebook/Working\n",
    "#    %20With%20Markdown%20Cells.html\"><img src=\"https://jupyter.org/assets/homepage/main-logo.svg\" /></a>\n",
    "#  </td>\n",
    "#</table>\n",
    "# </n>"
   ]
  },
  {
   "cell_type": "markdown",
   "id": "ac187f18",
   "metadata": {},
   "source": [
    "<img src=\"http://www.centroredes.org.ar/wp-content/uploads/2020/02/python-Centro-REDES.jpg\" />\n",
    "    \n",
    "  "
   ]
  },
  {
   "cell_type": "markdown",
   "id": "8963e5db",
   "metadata": {},
   "source": [
    "# Fórmulas"
   ]
  },
  {
   "cell_type": "code",
   "execution_count": 6,
   "id": "25ba1bea",
   "metadata": {},
   "outputs": [],
   "source": [
    "# Para insertar una fórmula, debemos escribir $ antes de la fórmula. \n",
    "# Por ejemplo, la fórmula para minimizar el error cuadrático medio sería:\n",
    "# $\\beta = (X^{T}X)^{-1}X^{T}Y$"
   ]
  },
  {
   "cell_type": "markdown",
   "id": "9f56c770",
   "metadata": {},
   "source": [
    "Aquí podemos verla aplicada en una celda de texto:\n",
    "$\\beta = (X^{T}X)^{-1}X^{T}Y$"
   ]
  }
 ],
 "metadata": {
  "kernelspec": {
   "display_name": "Python 3 (ipykernel)",
   "language": "python",
   "name": "python3"
  },
  "language_info": {
   "codemirror_mode": {
    "name": "ipython",
    "version": 3
   },
   "file_extension": ".py",
   "mimetype": "text/x-python",
   "name": "python",
   "nbconvert_exporter": "python",
   "pygments_lexer": "ipython3",
   "version": "3.11.5"
  }
 },
 "nbformat": 4,
 "nbformat_minor": 5
}
